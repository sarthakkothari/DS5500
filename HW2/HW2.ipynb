{
 "cells": [
  {
   "cell_type": "markdown",
   "metadata": {},
   "source": [
    "# Problem 1\n",
    "\n",
    "The link can be found here : https://piazza.com/class/k05u5i0wc3w540?cid=232"
   ]
  },
  {
   "cell_type": "markdown",
   "metadata": {},
   "source": [
    "# Problem 2\n",
    "\n",
    "##### Choose and critique one of the visualization by one of your fellow classmates for HW 1 Problem 2 (distribution of income across countries and continents over time). Include a link to the original. Describe the visualization and how it is similar and/or different from yours. Is it easy to interpret? Does it effectively visualize what is being asked? Why or why not?\n"
   ]
  },
  {
   "cell_type": "markdown",
   "metadata": {},
   "source": [
    "Author : Omair Shafi Ahmed\n",
    "\n",
    "Link : https://github.com/Omairss/ds5500_hw1/blob/master/Homework1.ipynb\n",
    "\n",
    "Similarity / Difference : Omair's visualisation and my visualisation try to focus on distriubtion quite differently. He has plot a heat map where as I have tried to show the differences as a distribution plot. Moreover he has showcased the plot over all countries whereas I did it across continenets. \n",
    "\n",
    "Interpretability : The plots are little hard to interpret as they fell cluttered.\n",
    "\n",
    "Effectivness : His plots are effective and showcase the right story. One could easily see the trend of GDP per captia increases."
   ]
  },
  {
   "cell_type": "markdown",
   "metadata": {},
   "source": [
    "# Problem 3\n",
    "\n",
    "\n",
    "##### Choose and critique one of the visualization by one of your fellow classmates for HW 1 Problem 3 (relationship between income, life expectancy, and child mortality over time). Include a link to the original. Describe the visualization and how it is similar and/or different from yours. Is it easy to interpret? Does it effectively visualize what is being asked? Why or why not?\n"
   ]
  },
  {
   "cell_type": "markdown",
   "metadata": {},
   "source": [
    "Author : Omair Shafi Ahmed\n",
    "\n",
    "Link : https://github.com/Omairss/ds5500_hw1/blob/master/Homework1.ipynb\n",
    "\n",
    "Similarity / Difference : We both have tried to show the correlation as density plots, however to see the overall effect of time on these variables he has plot contries on different time whereas my plots show the average of all countires.\n",
    "\n",
    "Interpretability : The plots are interpretable and easy to read and understand.\n",
    "\n",
    "Effectivness : One could easily find the growing trend in life expectancy and income, whereas drop in child mortality over time in his plots and hence making it very effective for the visual story we are trying to present"
   ]
  },
  {
   "cell_type": "markdown",
   "metadata": {},
   "source": [
    "### Helper for Problem 4 and Problem 5"
   ]
  },
  {
   "cell_type": "code",
   "execution_count": 1,
   "metadata": {
    "ExecuteTime": {
     "end_time": "2019-10-28T20:08:35.561325Z",
     "start_time": "2019-10-28T20:08:34.488015Z"
    }
   },
   "outputs": [
    {
     "data": {
      "text/html": [
       "<div>\n",
       "<style scoped>\n",
       "    .dataframe tbody tr th:only-of-type {\n",
       "        vertical-align: middle;\n",
       "    }\n",
       "\n",
       "    .dataframe tbody tr th {\n",
       "        vertical-align: top;\n",
       "    }\n",
       "\n",
       "    .dataframe thead th {\n",
       "        text-align: right;\n",
       "    }\n",
       "</style>\n",
       "<table border=\"1\" class=\"dataframe\">\n",
       "  <thead>\n",
       "    <tr style=\"text-align: right;\">\n",
       "      <th></th>\n",
       "      <th>geo</th>\n",
       "      <th>time</th>\n",
       "      <th>gdppercapita_us_inflation_adjusted</th>\n",
       "      <th>life_expectancy_years</th>\n",
       "      <th>child_mortality_0_5_year_olds_dying_per_1000_born</th>\n",
       "      <th>country</th>\n",
       "      <th>world_4region</th>\n",
       "    </tr>\n",
       "  </thead>\n",
       "  <tbody>\n",
       "    <tr>\n",
       "      <td>0</td>\n",
       "      <td>abw</td>\n",
       "      <td>2010</td>\n",
       "      <td>24271.94042</td>\n",
       "      <td>75.06</td>\n",
       "      <td>17.969</td>\n",
       "      <td>abw</td>\n",
       "      <td>americas</td>\n",
       "    </tr>\n",
       "    <tr>\n",
       "      <td>1</td>\n",
       "      <td>afg</td>\n",
       "      <td>2002</td>\n",
       "      <td>364.57057</td>\n",
       "      <td>52.43</td>\n",
       "      <td>122.200</td>\n",
       "      <td>afg</td>\n",
       "      <td>asia</td>\n",
       "    </tr>\n",
       "    <tr>\n",
       "      <td>2</td>\n",
       "      <td>afg</td>\n",
       "      <td>2003</td>\n",
       "      <td>376.75871</td>\n",
       "      <td>53.03</td>\n",
       "      <td>118.300</td>\n",
       "      <td>afg</td>\n",
       "      <td>asia</td>\n",
       "    </tr>\n",
       "    <tr>\n",
       "      <td>3</td>\n",
       "      <td>afg</td>\n",
       "      <td>2004</td>\n",
       "      <td>364.09544</td>\n",
       "      <td>53.50</td>\n",
       "      <td>114.400</td>\n",
       "      <td>afg</td>\n",
       "      <td>asia</td>\n",
       "    </tr>\n",
       "    <tr>\n",
       "      <td>4</td>\n",
       "      <td>afg</td>\n",
       "      <td>2005</td>\n",
       "      <td>389.41636</td>\n",
       "      <td>53.87</td>\n",
       "      <td>110.300</td>\n",
       "      <td>afg</td>\n",
       "      <td>asia</td>\n",
       "    </tr>\n",
       "  </tbody>\n",
       "</table>\n",
       "</div>"
      ],
      "text/plain": [
       "   geo  time  gdppercapita_us_inflation_adjusted  life_expectancy_years  \\\n",
       "0  abw  2010                         24271.94042                  75.06   \n",
       "1  afg  2002                           364.57057                  52.43   \n",
       "2  afg  2003                           376.75871                  53.03   \n",
       "3  afg  2004                           364.09544                  53.50   \n",
       "4  afg  2005                           389.41636                  53.87   \n",
       "\n",
       "   child_mortality_0_5_year_olds_dying_per_1000_born country world_4region  \n",
       "0                                             17.969     abw      americas  \n",
       "1                                            122.200     afg          asia  \n",
       "2                                            118.300     afg          asia  \n",
       "3                                            114.400     afg          asia  \n",
       "4                                            110.300     afg          asia  "
      ]
     },
     "execution_count": 1,
     "metadata": {},
     "output_type": "execute_result"
    }
   ],
   "source": [
    "import pandas as pd\n",
    "import matplotlib.pyplot as plt\n",
    "import numpy as np\n",
    "\n",
    "from sklearn.linear_model import LinearRegression\n",
    "from sklearn.metrics import mean_squared_error  \n",
    "\n",
    "\n",
    "def modelHelper(model, X, Y, Xlab, Ylab):\n",
    "    model.fit(X, Y)\n",
    "    scr = 'MSE : ' + str(mean_squared_error(Y, model.predict(X)))\n",
    "    print('Model Coefficent ' + str(model.coef_[0]))\n",
    "    print('Model Intercept ' + str(model.intercept_))\n",
    "    plt.scatter(X,Y,color='g')\n",
    "    plt.plot(X,model.predict(X),color='k')\n",
    "    plt.xlabel(Xlab)\n",
    "    plt.ylabel(Ylab)\n",
    "    plt.title(scr)\n",
    "    plt.show()\n",
    "    \n",
    "gdp = pd.read_csv(\"../data/ddf--datapoints--gdppercapita_us_inflation_adjusted--by--geo--time.csv\")\n",
    "life = pd.read_csv('../data/ddf--datapoints--life_expectancy_years--by--geo--time.csv')\n",
    "cm = pd.read_csv('../data/ddf--datapoints--child_mortality_0_5_year_olds_dying_per_1000_born--by--geo--time.csv')\n",
    "cont_map = pd.read_csv('../data/ddf--entities--geo--country.csv')    \n",
    "\n",
    "df = pd.merge(gdp, life)\n",
    "df = pd.merge(df, cm)\n",
    "df = pd.merge(df,cont_map[['country', 'world_4region']], left_on = 'geo', right_on = 'country')\n",
    "df.head()"
   ]
  },
  {
   "cell_type": "markdown",
   "metadata": {},
   "source": [
    "# Problem 4\n",
    "\n",
    "##### Choose and fit one or more models to quantify the relationship betweem income (GDP per capita) and life expectancy over time. Justify your choice of model and comment on its appropriateness. (You are not required to handle the autocorrelation of time series, but should comment on how this impacts your analysis.) Visualize the model(s) and comment on what they tell you about the relationship between income and life expectancy over time."
   ]
  },
  {
   "cell_type": "code",
   "execution_count": 2,
   "metadata": {
    "ExecuteTime": {
     "end_time": "2019-10-28T20:08:35.905855Z",
     "start_time": "2019-10-28T20:08:35.896256Z"
    }
   },
   "outputs": [],
   "source": [
    "gdp_life = df.groupby('time').mean().reset_index()\\\n",
    "                [['time','gdppercapita_us_inflation_adjusted', 'life_expectancy_years']]"
   ]
  },
  {
   "cell_type": "code",
   "execution_count": 3,
   "metadata": {
    "ExecuteTime": {
     "end_time": "2019-10-28T20:08:36.327573Z",
     "start_time": "2019-10-28T20:08:36.169051Z"
    },
    "scrolled": false
   },
   "outputs": [
    {
     "data": {
      "image/png": "[encoded data removed]",
      "text/plain": [
       "<Figure size 432x288 with 1 Axes>"
      ]
     },
     "metadata": {
      "needs_background": "light"
     },
     "output_type": "display_data"
    },
    {
     "data": {
      "text/html": [
       "<div>\n",
       "<style scoped>\n",
       "    .dataframe tbody tr th:only-of-type {\n",
       "        vertical-align: middle;\n",
       "    }\n",
       "\n",
       "    .dataframe tbody tr th {\n",
       "        vertical-align: top;\n",
       "    }\n",
       "\n",
       "    .dataframe thead th {\n",
       "        text-align: right;\n",
       "    }\n",
       "</style>\n",
       "<table border=\"1\" class=\"dataframe\">\n",
       "  <thead>\n",
       "    <tr style=\"text-align: right;\">\n",
       "      <th></th>\n",
       "      <th>time</th>\n",
       "      <th>gdp</th>\n",
       "      <th>life</th>\n",
       "    </tr>\n",
       "  </thead>\n",
       "  <tbody>\n",
       "    <tr>\n",
       "      <td>time</td>\n",
       "      <td>1.000000</td>\n",
       "      <td>0.975161</td>\n",
       "      <td>0.983437</td>\n",
       "    </tr>\n",
       "    <tr>\n",
       "      <td>gdp</td>\n",
       "      <td>0.975161</td>\n",
       "      <td>1.000000</td>\n",
       "      <td>0.979056</td>\n",
       "    </tr>\n",
       "    <tr>\n",
       "      <td>life</td>\n",
       "      <td>0.983437</td>\n",
       "      <td>0.979056</td>\n",
       "      <td>1.000000</td>\n",
       "    </tr>\n",
       "  </tbody>\n",
       "</table>\n",
       "</div>"
      ],
      "text/plain": [
       "          time       gdp      life\n",
       "time  1.000000  0.975161  0.983437\n",
       "gdp   0.975161  1.000000  0.979056\n",
       "life  0.983437  0.979056  1.000000"
      ]
     },
     "execution_count": 3,
     "metadata": {},
     "output_type": "execute_result"
    }
   ],
   "source": [
    "gdp_life.columns = ['time', 'gdp', 'life']\n",
    "plt.plot(gdp_life['gdp'], gdp_life['life'], 'o')\n",
    "plt.show()\n",
    "gdp_life.corr()"
   ]
  },
  {
   "cell_type": "code",
   "execution_count": 4,
   "metadata": {
    "ExecuteTime": {
     "end_time": "2019-10-28T20:08:36.597358Z",
     "start_time": "2019-10-28T20:08:36.444474Z"
    }
   },
   "outputs": [
    {
     "name": "stdout",
     "output_type": "stream",
     "text": [
      "Model Coefficent 0.0016804489866959183\n",
      "Model Intercept 49.06927889428748\n"
     ]
    },
    {
     "data": {
      "image/png": "[encoded data removed]",
      "text/plain": [
       "<Figure size 432x288 with 1 Axes>"
      ]
     },
     "metadata": {
      "needs_background": "light"
     },
     "output_type": "display_data"
    }
   ],
   "source": [
    "X = gdp_life['gdp'].values.reshape(-1, 1)\n",
    "Y = gdp_life['life'].values\n",
    "modelHelper(LinearRegression(), X, Y, 'GDP', 'Life Expectancy')"
   ]
  },
  {
   "cell_type": "markdown",
   "metadata": {},
   "source": [
    "Since there exist a high correlation between the GDP and the life expectancy it is easy to estimate the relationship via a linear model. As one can see the model is able to estimate the relationship quite well. "
   ]
  },
  {
   "cell_type": "markdown",
   "metadata": {},
   "source": [
    "# Problem 5\n",
    "\n",
    "##### Choose and fit one or more models to quantify the relationship betweem income (GDP per capita) and child mortality over time. Justify your choice of model and comment on its appropriateness. (You are not required to handle the autocorrelation of time series, but should comment on how this impacts your analysis.) Visualize the model(s) and comment on what they tell you about the relationship between income and child mortality over time."
   ]
  },
  {
   "cell_type": "code",
   "execution_count": 5,
   "metadata": {
    "ExecuteTime": {
     "end_time": "2019-10-28T20:08:38.297031Z",
     "start_time": "2019-10-28T20:08:38.288498Z"
    }
   },
   "outputs": [],
   "source": [
    "gdp_child = df.groupby('time').mean().reset_index()\\\n",
    "            [['time','gdppercapita_us_inflation_adjusted', 'child_mortality_0_5_year_olds_dying_per_1000_born']]\n"
   ]
  },
  {
   "cell_type": "code",
   "execution_count": 6,
   "metadata": {
    "ExecuteTime": {
     "end_time": "2019-10-28T20:08:38.688492Z",
     "start_time": "2019-10-28T20:08:38.543518Z"
    }
   },
   "outputs": [
    {
     "data": {
      "image/png": "[encoded data removed]",
      "text/plain": [
       "<Figure size 432x288 with 1 Axes>"
      ]
     },
     "metadata": {
      "needs_background": "light"
     },
     "output_type": "display_data"
    },
    {
     "data": {
      "text/html": [
       "<div>\n",
       "<style scoped>\n",
       "    .dataframe tbody tr th:only-of-type {\n",
       "        vertical-align: middle;\n",
       "    }\n",
       "\n",
       "    .dataframe tbody tr th {\n",
       "        vertical-align: top;\n",
       "    }\n",
       "\n",
       "    .dataframe thead th {\n",
       "        text-align: right;\n",
       "    }\n",
       "</style>\n",
       "<table border=\"1\" class=\"dataframe\">\n",
       "  <thead>\n",
       "    <tr style=\"text-align: right;\">\n",
       "      <th></th>\n",
       "      <th>time</th>\n",
       "      <th>gdp</th>\n",
       "      <th>child</th>\n",
       "    </tr>\n",
       "  </thead>\n",
       "  <tbody>\n",
       "    <tr>\n",
       "      <td>time</td>\n",
       "      <td>1.000000</td>\n",
       "      <td>0.975161</td>\n",
       "      <td>-0.985772</td>\n",
       "    </tr>\n",
       "    <tr>\n",
       "      <td>gdp</td>\n",
       "      <td>0.975161</td>\n",
       "      <td>1.000000</td>\n",
       "      <td>-0.970164</td>\n",
       "    </tr>\n",
       "    <tr>\n",
       "      <td>child</td>\n",
       "      <td>-0.985772</td>\n",
       "      <td>-0.970164</td>\n",
       "      <td>1.000000</td>\n",
       "    </tr>\n",
       "  </tbody>\n",
       "</table>\n",
       "</div>"
      ],
      "text/plain": [
       "           time       gdp     child\n",
       "time   1.000000  0.975161 -0.985772\n",
       "gdp    0.975161  1.000000 -0.970164\n",
       "child -0.985772 -0.970164  1.000000"
      ]
     },
     "execution_count": 6,
     "metadata": {},
     "output_type": "execute_result"
    }
   ],
   "source": [
    "gdp_child.columns = ['time', 'gdp', 'child']\n",
    "plt.plot(gdp_child['gdp'], gdp_child['child'], 'o')\n",
    "plt.show()\n",
    "gdp_child.corr()"
   ]
  },
  {
   "cell_type": "code",
   "execution_count": 7,
   "metadata": {
    "ExecuteTime": {
     "end_time": "2019-10-28T20:08:39.556823Z",
     "start_time": "2019-10-28T20:08:39.401513Z"
    }
   },
   "outputs": [
    {
     "name": "stdout",
     "output_type": "stream",
     "text": [
      "Model Coefficent -0.014525108967053914\n",
      "Model Intercept 223.47591863374808\n"
     ]
    },
    {
     "data": {
      "image/png": "[encoded data removed]",
      "text/plain": [
       "<Figure size 432x288 with 1 Axes>"
      ]
     },
     "metadata": {
      "needs_background": "light"
     },
     "output_type": "display_data"
    }
   ],
   "source": [
    "X = gdp_child['gdp'].values.reshape(-1, 1)\n",
    "Y = gdp_child['child'].values\n",
    "modelHelper(LinearRegression(), X, Y, 'GDP', 'Child Mortality')"
   ]
  },
  {
   "cell_type": "markdown",
   "metadata": {},
   "source": [
    "Similar to GDP and Life expectancy, GDP and child mortality too have a high correlation. Using a linear model again delivers a good estimate of the relationship between the two variables. It is intresting to see the steady drop in the child mortality rate as overall gdp increases."
   ]
  }
 ],
 "metadata": {
  "kernelspec": {
   "display_name": "Python 3",
   "language": "python",
   "name": "python3"
  },
  "language_info": {
   "codemirror_mode": {
    "name": "ipython",
    "version": 3
   },
   "file_extension": ".py",
   "mimetype": "text/x-python",
   "name": "python",
   "nbconvert_exporter": "python",
   "pygments_lexer": "ipython3",
   "version": "3.6.7"
  }
 },
 "nbformat": 4,
 "nbformat_minor": 2
}
