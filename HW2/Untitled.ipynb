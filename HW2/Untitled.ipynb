{
 "cells": [
  {
   "cell_type": "markdown",
   "metadata": {},
   "source": [
    "# Problem 1\n",
    "\n",
    "The link can be found here : https://piazza.com/class/k05u5i0wc3w540?cid=232"
   ]
  },
  {
   "cell_type": "markdown",
   "metadata": {},
   "source": [
    "# Problem 2\n",
    "\n",
    "##### Choose and critique one of the visualization by one of your fellow classmates for HW 1 Problem 2 (distribution of income across countries and continents over time). Include a link to the original. Describe the visualization and how it is similar and/or different from yours. Is it easy to interpret? Does it effectively visualize what is being asked? Why or why not?\n"
   ]
  },
  {
   "cell_type": "markdown",
   "metadata": {},
   "source": [
    "Author : Omair Shafi Ahmed\n",
    "\n",
    "Link : https://github.com/Omairss/ds5500_hw1/blob/master/Homework1.ipynb\n",
    "\n",
    "Similarity / Difference : Omair's visualisation and my visualisation try to focus on distriubtion quite differently. He has plot a heat map where as I have tried to show the differences as a distribution plot. Moreover he has showcased the plot over all countries whereas I did it across continenets. \n",
    "\n",
    "Interpretability : The plots are little hard to interpret as they fell cluttered.\n",
    "\n",
    "Effectivness : His plots are effective and showcase the right story. One could easily see the trend of GDP per captia increases."
   ]
  },
  {
   "cell_type": "markdown",
   "metadata": {},
   "source": [
    "# Problem 3\n",
    "\n",
    "\n",
    "##### Choose and critique one of the visualization by one of your fellow classmates for HW 1 Problem 3 (relationship between income, life expectancy, and child mortality over time). Include a link to the original. Describe the visualization and how it is similar and/or different from yours. Is it easy to interpret? Does it effectively visualize what is being asked? Why or why not?\n"
   ]
  },
  {
   "cell_type": "markdown",
   "metadata": {},
   "source": [
    "Author : Omair Shafi Ahmed\n",
    "\n",
    "Link : https://github.com/Omairss/ds5500_hw1/blob/master/Homework1.ipynb\n",
    "\n",
    "Similarity / Difference : We both have tried to show the correlation as density plots, however to see the overall effect of time on these variables he has plot contries on different time whereas my plots show the average of all countires.\n",
    "\n",
    "Interpretability : The plots are interpretable and easy to read and understand.\n",
    "\n",
    "Effectivness : One could easily find the growing trend in life expectancy and income, whereas drop in child mortality over time in his plots and hence making it very effective for the visual story we are trying to present"
   ]
  },
  {
   "cell_type": "markdown",
   "metadata": {},
   "source": [
    "# Problem 4\n",
    "\n",
    "##### Choose and fit one or more models to quantify the relationship betweem income (GDP per capita) and life expectancy over time. Justify your choice of model and comment on its appropriateness. (You are not required to handle the autocorrelation of time series, but should comment on how this impacts your analysis.) Visualize the model(s) and comment on what they tell you about the relationship between income and life expectancy over time."
   ]
  },
  {
   "cell_type": "code",
   "execution_count": null,
   "metadata": {},
   "outputs": [],
   "source": []
  }
 ],
 "metadata": {
  "kernelspec": {
   "display_name": "Python 3",
   "language": "python",
   "name": "python3"
  },
  "language_info": {
   "codemirror_mode": {
    "name": "ipython",
    "version": 3
   },
   "file_extension": ".py",
   "mimetype": "text/x-python",
   "name": "python",
   "nbconvert_exporter": "python",
   "pygments_lexer": "ipython3",
   "version": "3.6.7"
  }
 },
 "nbformat": 4,
 "nbformat_minor": 2
}
