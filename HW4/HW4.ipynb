{
 "cells": [
  {
   "cell_type": "code",
   "execution_count": 1,
   "metadata": {
    "ExecuteTime": {
     "end_time": "2019-11-26T21:24:42.833319Z",
     "start_time": "2019-11-26T21:24:42.828852Z"
    }
   },
   "outputs": [],
   "source": [
    "import warnings\n",
    "warnings.filterwarnings(\"ignore\")"
   ]
  },
  {
   "cell_type": "code",
   "execution_count": 2,
   "metadata": {
    "ExecuteTime": {
     "end_time": "2019-11-26T21:24:44.021150Z",
     "start_time": "2019-11-26T21:24:42.836664Z"
    }
   },
   "outputs": [],
   "source": [
    "import pandas as pd\n",
    "import numpy as np\n",
    "import seaborn as sns\n",
    "import matplotlib.pyplot as plt"
   ]
  },
  {
   "cell_type": "code",
   "execution_count": 3,
   "metadata": {
    "ExecuteTime": {
     "end_time": "2019-11-26T21:24:44.629326Z",
     "start_time": "2019-11-26T21:24:44.023855Z"
    }
   },
   "outputs": [
    {
     "data": {
      "text/html": [
       "<div>\n",
       "<style scoped>\n",
       "    .dataframe tbody tr th:only-of-type {\n",
       "        vertical-align: middle;\n",
       "    }\n",
       "\n",
       "    .dataframe tbody tr th {\n",
       "        vertical-align: top;\n",
       "    }\n",
       "\n",
       "    .dataframe thead th {\n",
       "        text-align: right;\n",
       "    }\n",
       "</style>\n",
       "<table border=\"1\" class=\"dataframe\">\n",
       "  <thead>\n",
       "    <tr style=\"text-align: right;\">\n",
       "      <th></th>\n",
       "      <th>LEAID</th>\n",
       "      <th>CENSUSID</th>\n",
       "      <th>FIPST</th>\n",
       "      <th>CONUM</th>\n",
       "      <th>CSA</th>\n",
       "      <th>CBSA</th>\n",
       "      <th>NAME</th>\n",
       "      <th>STNAME</th>\n",
       "      <th>STABBR</th>\n",
       "      <th>SCHLEV</th>\n",
       "      <th>...</th>\n",
       "      <th>FL_61V</th>\n",
       "      <th>FL_66V</th>\n",
       "      <th>FL_W01</th>\n",
       "      <th>FL_W31</th>\n",
       "      <th>FL_W61</th>\n",
       "      <th>FL_V95</th>\n",
       "      <th>FL_V02</th>\n",
       "      <th>FL_K14</th>\n",
       "      <th>FL_CE1</th>\n",
       "      <th>FL_CE2</th>\n",
       "    </tr>\n",
       "  </thead>\n",
       "  <tbody>\n",
       "    <tr>\n",
       "      <td>0</td>\n",
       "      <td>100002</td>\n",
       "      <td>N</td>\n",
       "      <td>1</td>\n",
       "      <td>01073</td>\n",
       "      <td>142</td>\n",
       "      <td>13820</td>\n",
       "      <td>Alabama Youth Services</td>\n",
       "      <td>Alabama</td>\n",
       "      <td>AL</td>\n",
       "      <td>N</td>\n",
       "      <td>...</td>\n",
       "      <td>M</td>\n",
       "      <td>M</td>\n",
       "      <td>M</td>\n",
       "      <td>M</td>\n",
       "      <td>M</td>\n",
       "      <td>M</td>\n",
       "      <td>M</td>\n",
       "      <td>M</td>\n",
       "      <td>M</td>\n",
       "      <td>M</td>\n",
       "    </tr>\n",
       "    <tr>\n",
       "      <td>1</td>\n",
       "      <td>100005</td>\n",
       "      <td>01504840100000</td>\n",
       "      <td>1</td>\n",
       "      <td>01095</td>\n",
       "      <td>290</td>\n",
       "      <td>10700</td>\n",
       "      <td>Albertville City</td>\n",
       "      <td>Alabama</td>\n",
       "      <td>AL</td>\n",
       "      <td>03</td>\n",
       "      <td>...</td>\n",
       "      <td>M</td>\n",
       "      <td>M</td>\n",
       "      <td>R</td>\n",
       "      <td>R</td>\n",
       "      <td>R</td>\n",
       "      <td>M</td>\n",
       "      <td>M</td>\n",
       "      <td>M</td>\n",
       "      <td>M</td>\n",
       "      <td>M</td>\n",
       "    </tr>\n",
       "    <tr>\n",
       "      <td>2</td>\n",
       "      <td>100006</td>\n",
       "      <td>01504800100000</td>\n",
       "      <td>1</td>\n",
       "      <td>01095</td>\n",
       "      <td>290</td>\n",
       "      <td>10700</td>\n",
       "      <td>Marshall County</td>\n",
       "      <td>Alabama</td>\n",
       "      <td>AL</td>\n",
       "      <td>03</td>\n",
       "      <td>...</td>\n",
       "      <td>M</td>\n",
       "      <td>M</td>\n",
       "      <td>R</td>\n",
       "      <td>R</td>\n",
       "      <td>R</td>\n",
       "      <td>M</td>\n",
       "      <td>M</td>\n",
       "      <td>M</td>\n",
       "      <td>M</td>\n",
       "      <td>M</td>\n",
       "    </tr>\n",
       "    <tr>\n",
       "      <td>3</td>\n",
       "      <td>100007</td>\n",
       "      <td>01503740100000</td>\n",
       "      <td>1</td>\n",
       "      <td>01073</td>\n",
       "      <td>142</td>\n",
       "      <td>13820</td>\n",
       "      <td>Hoover City</td>\n",
       "      <td>Alabama</td>\n",
       "      <td>AL</td>\n",
       "      <td>03</td>\n",
       "      <td>...</td>\n",
       "      <td>M</td>\n",
       "      <td>M</td>\n",
       "      <td>R</td>\n",
       "      <td>R</td>\n",
       "      <td>R</td>\n",
       "      <td>M</td>\n",
       "      <td>M</td>\n",
       "      <td>M</td>\n",
       "      <td>M</td>\n",
       "      <td>M</td>\n",
       "    </tr>\n",
       "    <tr>\n",
       "      <td>4</td>\n",
       "      <td>100008</td>\n",
       "      <td>01504530100000</td>\n",
       "      <td>1</td>\n",
       "      <td>01089</td>\n",
       "      <td>290</td>\n",
       "      <td>26620</td>\n",
       "      <td>Madison City</td>\n",
       "      <td>Alabama</td>\n",
       "      <td>AL</td>\n",
       "      <td>03</td>\n",
       "      <td>...</td>\n",
       "      <td>M</td>\n",
       "      <td>M</td>\n",
       "      <td>R</td>\n",
       "      <td>R</td>\n",
       "      <td>R</td>\n",
       "      <td>M</td>\n",
       "      <td>M</td>\n",
       "      <td>M</td>\n",
       "      <td>M</td>\n",
       "      <td>M</td>\n",
       "    </tr>\n",
       "  </tbody>\n",
       "</table>\n",
       "<p>5 rows × 260 columns</p>\n",
       "</div>"
      ],
      "text/plain": [
       "    LEAID        CENSUSID  FIPST  CONUM  CSA   CBSA                    NAME  \\\n",
       "0  100002               N      1  01073  142  13820  Alabama Youth Services   \n",
       "1  100005  01504840100000      1  01095  290  10700        Albertville City   \n",
       "2  100006  01504800100000      1  01095  290  10700         Marshall County   \n",
       "3  100007  01503740100000      1  01073  142  13820             Hoover City   \n",
       "4  100008  01504530100000      1  01089  290  26620            Madison City   \n",
       "\n",
       "    STNAME STABBR SCHLEV  ... FL_61V  FL_66V  FL_W01  FL_W31 FL_W61 FL_V95  \\\n",
       "0  Alabama     AL      N  ...      M       M       M       M      M      M   \n",
       "1  Alabama     AL     03  ...      M       M       R       R      R      M   \n",
       "2  Alabama     AL     03  ...      M       M       R       R      R      M   \n",
       "3  Alabama     AL     03  ...      M       M       R       R      R      M   \n",
       "4  Alabama     AL     03  ...      M       M       R       R      R      M   \n",
       "\n",
       "   FL_V02  FL_K14  FL_CE1  FL_CE2  \n",
       "0       M       M       M       M  \n",
       "1       M       M       M       M  \n",
       "2       M       M       M       M  \n",
       "3       M       M       M       M  \n",
       "4       M       M       M       M  \n",
       "\n",
       "[5 rows x 260 columns]"
      ]
     },
     "execution_count": 3,
     "metadata": {},
     "output_type": "execute_result"
    }
   ],
   "source": [
    "df = pd.read_csv('../data2/Sdf16_1a.txt', sep='\\t')\n",
    "df.head()"
   ]
  },
  {
   "cell_type": "code",
   "execution_count": 4,
   "metadata": {
    "ExecuteTime": {
     "end_time": "2019-11-26T21:24:45.301783Z",
     "start_time": "2019-11-26T21:24:44.632181Z"
    }
   },
   "outputs": [
    {
     "data": {
      "text/html": [
       "<div>\n",
       "<style scoped>\n",
       "    .dataframe tbody tr th:only-of-type {\n",
       "        vertical-align: middle;\n",
       "    }\n",
       "\n",
       "    .dataframe tbody tr th {\n",
       "        vertical-align: top;\n",
       "    }\n",
       "\n",
       "    .dataframe thead th {\n",
       "        text-align: right;\n",
       "    }\n",
       "</style>\n",
       "<table border=\"1\" class=\"dataframe\">\n",
       "  <thead>\n",
       "    <tr style=\"text-align: right;\">\n",
       "      <th></th>\n",
       "      <th>STNAM</th>\n",
       "      <th>FIPST</th>\n",
       "      <th>LEAID</th>\n",
       "      <th>ST_LEAID</th>\n",
       "      <th>LEANM</th>\n",
       "      <th>DATE_CUR</th>\n",
       "      <th>ALL_RLA00NUMVALID_1617</th>\n",
       "      <th>ALL_RLA00PCTPROF_1617</th>\n",
       "      <th>MAM_RLA00NUMVALID_1617</th>\n",
       "      <th>MAM_RLA00PCTPROF_1617</th>\n",
       "      <th>...</th>\n",
       "      <th>MIG_RLA05NUMVALID_1617</th>\n",
       "      <th>MIG_RLA05PCTPROF_1617</th>\n",
       "      <th>MIG_RLA06NUMVALID_1617</th>\n",
       "      <th>MIG_RLA06PCTPROF_1617</th>\n",
       "      <th>MIG_RLA07NUMVALID_1617</th>\n",
       "      <th>MIG_RLA07PCTPROF_1617</th>\n",
       "      <th>MIG_RLA08NUMVALID_1617</th>\n",
       "      <th>MIG_RLA08PCTPROF_1617</th>\n",
       "      <th>MIG_RLAHSNUMVALID_1617</th>\n",
       "      <th>MIG_RLAHSPCTPROF_1617</th>\n",
       "    </tr>\n",
       "  </thead>\n",
       "  <tbody>\n",
       "    <tr>\n",
       "      <td>0</td>\n",
       "      <td>ALABAMA</td>\n",
       "      <td>1</td>\n",
       "      <td>100005</td>\n",
       "      <td>AL-101</td>\n",
       "      <td>Albertville City</td>\n",
       "      <td>12APR18</td>\n",
       "      <td>2797</td>\n",
       "      <td>28</td>\n",
       "      <td>3</td>\n",
       "      <td>PS</td>\n",
       "      <td>...</td>\n",
       "      <td>22</td>\n",
       "      <td>LE20</td>\n",
       "      <td>22</td>\n",
       "      <td>LE20</td>\n",
       "      <td>18</td>\n",
       "      <td>21-39</td>\n",
       "      <td>14</td>\n",
       "      <td>LT50</td>\n",
       "      <td>20</td>\n",
       "      <td>LE20</td>\n",
       "    </tr>\n",
       "    <tr>\n",
       "      <td>1</td>\n",
       "      <td>ALABAMA</td>\n",
       "      <td>1</td>\n",
       "      <td>100006</td>\n",
       "      <td>AL-048</td>\n",
       "      <td>Marshall County</td>\n",
       "      <td>12APR18</td>\n",
       "      <td>2969</td>\n",
       "      <td>34</td>\n",
       "      <td>11</td>\n",
       "      <td>GE50</td>\n",
       "      <td>...</td>\n",
       "      <td>5</td>\n",
       "      <td>PS</td>\n",
       "      <td>4</td>\n",
       "      <td>PS</td>\n",
       "      <td>1</td>\n",
       "      <td>PS</td>\n",
       "      <td>3</td>\n",
       "      <td>PS</td>\n",
       "      <td>3</td>\n",
       "      <td>PS</td>\n",
       "    </tr>\n",
       "    <tr>\n",
       "      <td>2</td>\n",
       "      <td>ALABAMA</td>\n",
       "      <td>1</td>\n",
       "      <td>100007</td>\n",
       "      <td>AL-158</td>\n",
       "      <td>Hoover City</td>\n",
       "      <td>12APR18</td>\n",
       "      <td>7421</td>\n",
       "      <td>58</td>\n",
       "      <td>8</td>\n",
       "      <td>LT50</td>\n",
       "      <td>...</td>\n",
       "      <td>NaN</td>\n",
       "      <td>NaN</td>\n",
       "      <td>NaN</td>\n",
       "      <td>NaN</td>\n",
       "      <td>NaN</td>\n",
       "      <td>NaN</td>\n",
       "      <td>NaN</td>\n",
       "      <td>NaN</td>\n",
       "      <td>NaN</td>\n",
       "      <td>NaN</td>\n",
       "    </tr>\n",
       "    <tr>\n",
       "      <td>3</td>\n",
       "      <td>ALABAMA</td>\n",
       "      <td>1</td>\n",
       "      <td>100008</td>\n",
       "      <td>AL-169</td>\n",
       "      <td>Madison City</td>\n",
       "      <td>12APR18</td>\n",
       "      <td>5578</td>\n",
       "      <td>69</td>\n",
       "      <td>33</td>\n",
       "      <td>60-69</td>\n",
       "      <td>...</td>\n",
       "      <td>NaN</td>\n",
       "      <td>NaN</td>\n",
       "      <td>NaN</td>\n",
       "      <td>NaN</td>\n",
       "      <td>NaN</td>\n",
       "      <td>NaN</td>\n",
       "      <td>NaN</td>\n",
       "      <td>NaN</td>\n",
       "      <td>NaN</td>\n",
       "      <td>NaN</td>\n",
       "    </tr>\n",
       "    <tr>\n",
       "      <td>4</td>\n",
       "      <td>ALABAMA</td>\n",
       "      <td>1</td>\n",
       "      <td>100011</td>\n",
       "      <td>AL-167</td>\n",
       "      <td>Leeds City</td>\n",
       "      <td>12APR18</td>\n",
       "      <td>997</td>\n",
       "      <td>33</td>\n",
       "      <td>3</td>\n",
       "      <td>PS</td>\n",
       "      <td>...</td>\n",
       "      <td>NaN</td>\n",
       "      <td>NaN</td>\n",
       "      <td>NaN</td>\n",
       "      <td>NaN</td>\n",
       "      <td>NaN</td>\n",
       "      <td>NaN</td>\n",
       "      <td>NaN</td>\n",
       "      <td>NaN</td>\n",
       "      <td>NaN</td>\n",
       "      <td>NaN</td>\n",
       "    </tr>\n",
       "  </tbody>\n",
       "</table>\n",
       "<p>5 rows × 230 columns</p>\n",
       "</div>"
      ],
      "text/plain": [
       "     STNAM  FIPST   LEAID ST_LEAID             LEANM DATE_CUR  \\\n",
       "0  ALABAMA      1  100005   AL-101  Albertville City  12APR18   \n",
       "1  ALABAMA      1  100006   AL-048   Marshall County  12APR18   \n",
       "2  ALABAMA      1  100007   AL-158       Hoover City  12APR18   \n",
       "3  ALABAMA      1  100008   AL-169      Madison City  12APR18   \n",
       "4  ALABAMA      1  100011   AL-167        Leeds City  12APR18   \n",
       "\n",
       "   ALL_RLA00NUMVALID_1617 ALL_RLA00PCTPROF_1617 MAM_RLA00NUMVALID_1617  \\\n",
       "0                    2797                    28                      3   \n",
       "1                    2969                    34                     11   \n",
       "2                    7421                    58                      8   \n",
       "3                    5578                    69                     33   \n",
       "4                     997                    33                      3   \n",
       "\n",
       "  MAM_RLA00PCTPROF_1617  ... MIG_RLA05NUMVALID_1617 MIG_RLA05PCTPROF_1617  \\\n",
       "0                    PS  ...                     22                  LE20   \n",
       "1                  GE50  ...                      5                    PS   \n",
       "2                  LT50  ...                    NaN                   NaN   \n",
       "3                 60-69  ...                    NaN                   NaN   \n",
       "4                    PS  ...                    NaN                   NaN   \n",
       "\n",
       "  MIG_RLA06NUMVALID_1617 MIG_RLA06PCTPROF_1617 MIG_RLA07NUMVALID_1617  \\\n",
       "0                     22                  LE20                     18   \n",
       "1                      4                    PS                      1   \n",
       "2                    NaN                   NaN                    NaN   \n",
       "3                    NaN                   NaN                    NaN   \n",
       "4                    NaN                   NaN                    NaN   \n",
       "\n",
       "  MIG_RLA07PCTPROF_1617 MIG_RLA08NUMVALID_1617 MIG_RLA08PCTPROF_1617  \\\n",
       "0                 21-39                     14                  LT50   \n",
       "1                    PS                      3                    PS   \n",
       "2                   NaN                    NaN                   NaN   \n",
       "3                   NaN                    NaN                   NaN   \n",
       "4                   NaN                    NaN                   NaN   \n",
       "\n",
       "  MIG_RLAHSNUMVALID_1617 MIG_RLAHSPCTPROF_1617  \n",
       "0                     20                  LE20  \n",
       "1                      3                    PS  \n",
       "2                    NaN                   NaN  \n",
       "3                    NaN                   NaN  \n",
       "4                    NaN                   NaN  \n",
       "\n",
       "[5 rows x 230 columns]"
      ]
     },
     "execution_count": 4,
     "metadata": {},
     "output_type": "execute_result"
    }
   ],
   "source": [
    "language_df = pd.read_csv('../data2/rla-achievement-lea-sy2016-17.csv')\n",
    "language_df = language_df[language_df['ALL_RLA00PCTPROF_1617'].str.contains('PS') == False]\n",
    "language_df.head()"
   ]
  },
  {
   "cell_type": "code",
   "execution_count": 5,
   "metadata": {
    "ExecuteTime": {
     "end_time": "2019-11-26T21:24:45.733531Z",
     "start_time": "2019-11-26T21:24:45.303696Z"
    }
   },
   "outputs": [
    {
     "data": {
      "text/html": [
       "<div>\n",
       "<style scoped>\n",
       "    .dataframe tbody tr th:only-of-type {\n",
       "        vertical-align: middle;\n",
       "    }\n",
       "\n",
       "    .dataframe tbody tr th {\n",
       "        vertical-align: top;\n",
       "    }\n",
       "\n",
       "    .dataframe thead th {\n",
       "        text-align: right;\n",
       "    }\n",
       "</style>\n",
       "<table border=\"1\" class=\"dataframe\">\n",
       "  <thead>\n",
       "    <tr style=\"text-align: right;\">\n",
       "      <th></th>\n",
       "      <th>SURVYEAR</th>\n",
       "      <th>FIPST</th>\n",
       "      <th>STABR</th>\n",
       "      <th>STATENAME</th>\n",
       "      <th>SEANAME</th>\n",
       "      <th>LEAID</th>\n",
       "      <th>ST_LEAID</th>\n",
       "      <th>LEA_NAME</th>\n",
       "      <th>PK</th>\n",
       "      <th>KG</th>\n",
       "      <th>...</th>\n",
       "      <th>BLALF</th>\n",
       "      <th>WH</th>\n",
       "      <th>WHALM</th>\n",
       "      <th>WHALF</th>\n",
       "      <th>HP</th>\n",
       "      <th>HPALM</th>\n",
       "      <th>HPALF</th>\n",
       "      <th>TR</th>\n",
       "      <th>TRALM</th>\n",
       "      <th>TRALF</th>\n",
       "    </tr>\n",
       "  </thead>\n",
       "  <tbody>\n",
       "    <tr>\n",
       "      <td>0</td>\n",
       "      <td>2015-2016</td>\n",
       "      <td>1</td>\n",
       "      <td>AL</td>\n",
       "      <td>ALABAMA</td>\n",
       "      <td>Alabama Department Of Education</td>\n",
       "      <td>100002</td>\n",
       "      <td>210</td>\n",
       "      <td>Alabama Youth Services</td>\n",
       "      <td>-1</td>\n",
       "      <td>-1</td>\n",
       "      <td>...</td>\n",
       "      <td>-1</td>\n",
       "      <td>-1</td>\n",
       "      <td>-1</td>\n",
       "      <td>-1</td>\n",
       "      <td>-1</td>\n",
       "      <td>-1</td>\n",
       "      <td>-1</td>\n",
       "      <td>-1</td>\n",
       "      <td>-1</td>\n",
       "      <td>-1</td>\n",
       "    </tr>\n",
       "    <tr>\n",
       "      <td>1</td>\n",
       "      <td>2015-2016</td>\n",
       "      <td>1</td>\n",
       "      <td>AL</td>\n",
       "      <td>ALABAMA</td>\n",
       "      <td>Alabama Department Of Education</td>\n",
       "      <td>100005</td>\n",
       "      <td>101</td>\n",
       "      <td>Albertville City</td>\n",
       "      <td>118</td>\n",
       "      <td>491</td>\n",
       "      <td>...</td>\n",
       "      <td>68</td>\n",
       "      <td>2619</td>\n",
       "      <td>1310</td>\n",
       "      <td>1309</td>\n",
       "      <td>4</td>\n",
       "      <td>0</td>\n",
       "      <td>4</td>\n",
       "      <td>119</td>\n",
       "      <td>66</td>\n",
       "      <td>53</td>\n",
       "    </tr>\n",
       "    <tr>\n",
       "      <td>2</td>\n",
       "      <td>2015-2016</td>\n",
       "      <td>1</td>\n",
       "      <td>AL</td>\n",
       "      <td>ALABAMA</td>\n",
       "      <td>Alabama Department Of Education</td>\n",
       "      <td>100006</td>\n",
       "      <td>48</td>\n",
       "      <td>Marshall County</td>\n",
       "      <td>154</td>\n",
       "      <td>380</td>\n",
       "      <td>...</td>\n",
       "      <td>24</td>\n",
       "      <td>4331</td>\n",
       "      <td>2228</td>\n",
       "      <td>2103</td>\n",
       "      <td>2</td>\n",
       "      <td>1</td>\n",
       "      <td>1</td>\n",
       "      <td>49</td>\n",
       "      <td>28</td>\n",
       "      <td>21</td>\n",
       "    </tr>\n",
       "    <tr>\n",
       "      <td>3</td>\n",
       "      <td>2015-2016</td>\n",
       "      <td>1</td>\n",
       "      <td>AL</td>\n",
       "      <td>ALABAMA</td>\n",
       "      <td>Alabama Department Of Education</td>\n",
       "      <td>100007</td>\n",
       "      <td>158</td>\n",
       "      <td>Hoover City</td>\n",
       "      <td>65</td>\n",
       "      <td>942</td>\n",
       "      <td>...</td>\n",
       "      <td>1724</td>\n",
       "      <td>8131</td>\n",
       "      <td>4230</td>\n",
       "      <td>3901</td>\n",
       "      <td>14</td>\n",
       "      <td>5</td>\n",
       "      <td>9</td>\n",
       "      <td>275</td>\n",
       "      <td>140</td>\n",
       "      <td>135</td>\n",
       "    </tr>\n",
       "    <tr>\n",
       "      <td>4</td>\n",
       "      <td>2015-2016</td>\n",
       "      <td>1</td>\n",
       "      <td>AL</td>\n",
       "      <td>ALABAMA</td>\n",
       "      <td>Alabama Department Of Education</td>\n",
       "      <td>100008</td>\n",
       "      <td>169</td>\n",
       "      <td>Madison City</td>\n",
       "      <td>156</td>\n",
       "      <td>596</td>\n",
       "      <td>...</td>\n",
       "      <td>959</td>\n",
       "      <td>6186</td>\n",
       "      <td>3187</td>\n",
       "      <td>2999</td>\n",
       "      <td>27</td>\n",
       "      <td>14</td>\n",
       "      <td>13</td>\n",
       "      <td>393</td>\n",
       "      <td>182</td>\n",
       "      <td>211</td>\n",
       "    </tr>\n",
       "  </tbody>\n",
       "</table>\n",
       "<p>5 rows × 286 columns</p>\n",
       "</div>"
      ],
      "text/plain": [
       "    SURVYEAR  FIPST STABR STATENAME                          SEANAME   LEAID  \\\n",
       "0  2015-2016      1    AL   ALABAMA  Alabama Department Of Education  100002   \n",
       "1  2015-2016      1    AL   ALABAMA  Alabama Department Of Education  100005   \n",
       "2  2015-2016      1    AL   ALABAMA  Alabama Department Of Education  100006   \n",
       "3  2015-2016      1    AL   ALABAMA  Alabama Department Of Education  100007   \n",
       "4  2015-2016      1    AL   ALABAMA  Alabama Department Of Education  100008   \n",
       "\n",
       "  ST_LEAID                LEA_NAME   PK   KG  ...  BLALF    WH  WHALM  WHALF  \\\n",
       "0      210  Alabama Youth Services   -1   -1  ...     -1    -1     -1     -1   \n",
       "1      101        Albertville City  118  491  ...     68  2619   1310   1309   \n",
       "2       48         Marshall County  154  380  ...     24  4331   2228   2103   \n",
       "3      158             Hoover City   65  942  ...   1724  8131   4230   3901   \n",
       "4      169            Madison City  156  596  ...    959  6186   3187   2999   \n",
       "\n",
       "   HP  HPALM  HPALF   TR  TRALM  TRALF  \n",
       "0  -1     -1     -1   -1     -1     -1  \n",
       "1   4      0      4  119     66     53  \n",
       "2   2      1      1   49     28     21  \n",
       "3  14      5      9  275    140    135  \n",
       "4  27     14     13  393    182    211  \n",
       "\n",
       "[5 rows x 286 columns]"
      ]
     },
     "execution_count": 5,
     "metadata": {},
     "output_type": "execute_result"
    }
   ],
   "source": [
    "membership = pd.read_csv('../data2/ccd_lea_052_1516_w_1a_011717.csv')\n",
    "membership.head()"
   ]
  },
  {
   "cell_type": "code",
   "execution_count": 6,
   "metadata": {
    "ExecuteTime": {
     "end_time": "2019-11-26T21:24:45.793808Z",
     "start_time": "2019-11-26T21:24:45.736141Z"
    }
   },
   "outputs": [
    {
     "data": {
      "text/html": [
       "<div>\n",
       "<style scoped>\n",
       "    .dataframe tbody tr th:only-of-type {\n",
       "        vertical-align: middle;\n",
       "    }\n",
       "\n",
       "    .dataframe tbody tr th {\n",
       "        vertical-align: top;\n",
       "    }\n",
       "\n",
       "    .dataframe thead th {\n",
       "        text-align: right;\n",
       "    }\n",
       "</style>\n",
       "<table border=\"1\" class=\"dataframe\">\n",
       "  <thead>\n",
       "    <tr style=\"text-align: right;\">\n",
       "      <th></th>\n",
       "      <th>SURVYEAR</th>\n",
       "      <th>FIPST</th>\n",
       "      <th>STABR</th>\n",
       "      <th>STATENAME</th>\n",
       "      <th>SEANAME</th>\n",
       "      <th>LEAID</th>\n",
       "      <th>ST_LEAID</th>\n",
       "      <th>LEA_NAME</th>\n",
       "      <th>SPECED</th>\n",
       "    </tr>\n",
       "  </thead>\n",
       "  <tbody>\n",
       "    <tr>\n",
       "      <td>0</td>\n",
       "      <td>2015-2016</td>\n",
       "      <td>1</td>\n",
       "      <td>AL</td>\n",
       "      <td>ALABAMA</td>\n",
       "      <td>Alabama Department Of Education</td>\n",
       "      <td>100002</td>\n",
       "      <td>210</td>\n",
       "      <td>Alabama Youth Services</td>\n",
       "      <td>24</td>\n",
       "    </tr>\n",
       "    <tr>\n",
       "      <td>1</td>\n",
       "      <td>2015-2016</td>\n",
       "      <td>1</td>\n",
       "      <td>AL</td>\n",
       "      <td>ALABAMA</td>\n",
       "      <td>Alabama Department Of Education</td>\n",
       "      <td>100005</td>\n",
       "      <td>101</td>\n",
       "      <td>Albertville City</td>\n",
       "      <td>267</td>\n",
       "    </tr>\n",
       "    <tr>\n",
       "      <td>2</td>\n",
       "      <td>2015-2016</td>\n",
       "      <td>1</td>\n",
       "      <td>AL</td>\n",
       "      <td>ALABAMA</td>\n",
       "      <td>Alabama Department Of Education</td>\n",
       "      <td>100006</td>\n",
       "      <td>048</td>\n",
       "      <td>Marshall County</td>\n",
       "      <td>430</td>\n",
       "    </tr>\n",
       "    <tr>\n",
       "      <td>3</td>\n",
       "      <td>2015-2016</td>\n",
       "      <td>1</td>\n",
       "      <td>AL</td>\n",
       "      <td>ALABAMA</td>\n",
       "      <td>Alabama Department Of Education</td>\n",
       "      <td>100007</td>\n",
       "      <td>158</td>\n",
       "      <td>Hoover City</td>\n",
       "      <td>861</td>\n",
       "    </tr>\n",
       "    <tr>\n",
       "      <td>4</td>\n",
       "      <td>2015-2016</td>\n",
       "      <td>1</td>\n",
       "      <td>AL</td>\n",
       "      <td>ALABAMA</td>\n",
       "      <td>Alabama Department Of Education</td>\n",
       "      <td>100008</td>\n",
       "      <td>169</td>\n",
       "      <td>Madison City</td>\n",
       "      <td>735</td>\n",
       "    </tr>\n",
       "  </tbody>\n",
       "</table>\n",
       "</div>"
      ],
      "text/plain": [
       "    SURVYEAR  FIPST STABR STATENAME                          SEANAME   LEAID  \\\n",
       "0  2015-2016      1    AL   ALABAMA  Alabama Department Of Education  100002   \n",
       "1  2015-2016      1    AL   ALABAMA  Alabama Department Of Education  100005   \n",
       "2  2015-2016      1    AL   ALABAMA  Alabama Department Of Education  100006   \n",
       "3  2015-2016      1    AL   ALABAMA  Alabama Department Of Education  100007   \n",
       "4  2015-2016      1    AL   ALABAMA  Alabama Department Of Education  100008   \n",
       "\n",
       "  ST_LEAID                LEA_NAME  SPECED  \n",
       "0      210  Alabama Youth Services      24  \n",
       "1      101        Albertville City     267  \n",
       "2      048         Marshall County     430  \n",
       "3      158             Hoover City     861  \n",
       "4      169            Madison City     735  "
      ]
     },
     "execution_count": 6,
     "metadata": {},
     "output_type": "execute_result"
    }
   ],
   "source": [
    "disable = pd.read_csv('../data2/ccd_lea_002089_1516_w_1a_011717.csv')\n",
    "disable.head()"
   ]
  },
  {
   "cell_type": "code",
   "execution_count": 7,
   "metadata": {
    "ExecuteTime": {
     "end_time": "2019-11-26T21:24:45.838954Z",
     "start_time": "2019-11-26T21:24:45.798649Z"
    }
   },
   "outputs": [],
   "source": [
    "def parseScore(sc):\n",
    "    try:\n",
    "         return int(sc)\n",
    "    except:\n",
    "        if '-' in sc:\n",
    "            x = sc.split('-')\n",
    "        elif 'LE' in sc or 'LT' in sc:\n",
    "            x = [0, sc[2:]]\n",
    "        else:\n",
    "            x = [100, sc[2:]]\n",
    "        return (int(x[0]) + int(x[1])) // 2\n",
    "language_df['ParsedScores'] = language_df['ALL_RLA00PCTPROF_1617'].apply(parseScore)"
   ]
  },
  {
   "cell_type": "code",
   "execution_count": 8,
   "metadata": {
    "ExecuteTime": {
     "end_time": "2019-11-26T21:24:45.895559Z",
     "start_time": "2019-11-26T21:24:45.842461Z"
    }
   },
   "outputs": [],
   "source": [
    "budget = np.sum(df['TFEDREV'].values)\n",
    "cut = int(budget * 0.15)\n",
    "cutting_df = pd.merge(df[['LEAID', 'TFEDREV']], language_df[['LEAID', 'ParsedScores']], on='LEAID')\n",
    "cutting_df = cutting_df[cutting_df['TFEDREV'] > 0]\n",
    "top = cutting_df[cutting_df['ParsedScores'] > \\\n",
    "                   (np.mean(cutting_df['ParsedScores']) - np.std(cutting_df['ParsedScores']))]\n",
    "top['Rate'] = (top['TFEDREV'] * 0.25) + (top['ParsedScores'] * 0.75)\n",
    "total = np.sum(top['Rate'])\n",
    "top['Normalized'] = top['Rate'] / total\n",
    "top['BudgetCut'] = round(top['Normalized'] * cut, 2)\n",
    "top['NewBudget'] = top['TFEDREV'] - top['BudgetCut']"
   ]
  },
  {
   "cell_type": "code",
   "execution_count": 9,
   "metadata": {
    "ExecuteTime": {
     "end_time": "2019-11-26T21:24:45.904273Z",
     "start_time": "2019-11-26T21:24:45.898034Z"
    }
   },
   "outputs": [],
   "source": [
    "def autolabel(rects):\n",
    "    \"\"\"\n",
    "    Attach a text label above each bar displaying its height\n",
    "    \"\"\"\n",
    "    for rect in rects:\n",
    "        height = rect.get_height()\n",
    "        ax.text(rect.get_x() + rect.get_width()/2., height-0.1,\n",
    "                height,\n",
    "                ha='center', va='bottom')"
   ]
  },
  {
   "cell_type": "markdown",
   "metadata": {},
   "source": [
    "# Problem 1\n",
    "#### For the districts you selected for budget cuts in HW 3 Problem 4, calculate and visualize the proportion of each district’s total funding that will be lost. Which districts will be affected by your budget cuts the most?"
   ]
  },
  {
   "cell_type": "code",
   "execution_count": 10,
   "metadata": {
    "ExecuteTime": {
     "end_time": "2019-11-26T21:24:45.912484Z",
     "start_time": "2019-11-26T21:24:45.907021Z"
    },
    "scrolled": false
   },
   "outputs": [],
   "source": [
    "top['BudgetCutProp'] = top['BudgetCut'] / top['TFEDREV'] "
   ]
  },
  {
   "cell_type": "code",
   "execution_count": 11,
   "metadata": {
    "ExecuteTime": {
     "end_time": "2019-11-26T21:24:46.166034Z",
     "start_time": "2019-11-26T21:24:45.915020Z"
    }
   },
   "outputs": [
    {
     "data": {
      "image/png": "[encoded data removed]",
      "text/plain": [
       "<Figure size 432x288 with 1 Axes>"
      ]
     },
     "metadata": {
      "needs_background": "light"
     },
     "output_type": "display_data"
    }
   ],
   "source": [
    "plt.hist(top['BudgetCutProp'])\n",
    "plt.title('Distribution of Budget Cuts')\n",
    "plt.xlabel('Proportion of Budget Cut')\n",
    "plt.ylabel('Counts')\n",
    "plt.savefig('Q1.png')\n",
    "plt.show()"
   ]
  },
  {
   "cell_type": "code",
   "execution_count": 12,
   "metadata": {
    "ExecuteTime": {
     "end_time": "2019-11-26T21:24:46.196108Z",
     "start_time": "2019-11-26T21:24:46.171996Z"
    }
   },
   "outputs": [
    {
     "name": "stdout",
     "output_type": "stream",
     "text": [
      "Most affected by budget cut :\n"
     ]
    },
    {
     "data": {
      "text/html": [
       "<div>\n",
       "<style scoped>\n",
       "    .dataframe tbody tr th:only-of-type {\n",
       "        vertical-align: middle;\n",
       "    }\n",
       "\n",
       "    .dataframe tbody tr th {\n",
       "        vertical-align: top;\n",
       "    }\n",
       "\n",
       "    .dataframe thead th {\n",
       "        text-align: right;\n",
       "    }\n",
       "</style>\n",
       "<table border=\"1\" class=\"dataframe\">\n",
       "  <thead>\n",
       "    <tr style=\"text-align: right;\">\n",
       "      <th></th>\n",
       "      <th>LEAID</th>\n",
       "      <th>TFEDREV</th>\n",
       "      <th>ParsedScores</th>\n",
       "      <th>Rate</th>\n",
       "      <th>Normalized</th>\n",
       "      <th>BudgetCut</th>\n",
       "      <th>NewBudget</th>\n",
       "      <th>BudgetCutProp</th>\n",
       "    </tr>\n",
       "  </thead>\n",
       "  <tbody>\n",
       "    <tr>\n",
       "      <td>2343</td>\n",
       "      <td>2600121</td>\n",
       "      <td>2000</td>\n",
       "      <td>77</td>\n",
       "      <td>557.75</td>\n",
       "      <td>1.317457e-07</td>\n",
       "      <td>1098.81</td>\n",
       "      <td>901.19</td>\n",
       "      <td>0.549405</td>\n",
       "    </tr>\n",
       "  </tbody>\n",
       "</table>\n",
       "</div>"
      ],
      "text/plain": [
       "        LEAID  TFEDREV  ParsedScores    Rate    Normalized  BudgetCut  \\\n",
       "2343  2600121     2000            77  557.75  1.317457e-07    1098.81   \n",
       "\n",
       "      NewBudget  BudgetCutProp  \n",
       "2343     901.19       0.549405  "
      ]
     },
     "execution_count": 12,
     "metadata": {},
     "output_type": "execute_result"
    }
   ],
   "source": [
    "print('Most affected by budget cut :')\n",
    "top[top['BudgetCutProp'] == max(top['BudgetCutProp'])]"
   ]
  },
  {
   "cell_type": "markdown",
   "metadata": {},
   "source": [
    "# Problem 2\n",
    "\n",
    "#### A common problem with purely data-driven solutions is that they can inadvertently perpetuate hidden pre-existing biases in the data, and further disadvantage groups that are already disadvantaged. Calculate the proportion of enrolled students by race for each district, then visualize the distributions of these for districts that received budget cuts versus districts that did not receive budget cuts. Comment on whether the the distributions appear to be the same or different. Did your selection include any hidden biases, or manage to avoid them?"
   ]
  },
  {
   "cell_type": "code",
   "execution_count": 13,
   "metadata": {
    "ExecuteTime": {
     "end_time": "2019-11-26T21:24:46.549801Z",
     "start_time": "2019-11-26T21:24:46.202245Z"
    }
   },
   "outputs": [
    {
     "ename": "NameError",
     "evalue": "name 'budget_cuts' is not defined",
     "output_type": "error",
     "traceback": [
      "\u001b[0;31m---------------------------------------------------------------------------\u001b[0m",
      "\u001b[0;31mNameError\u001b[0m                                 Traceback (most recent call last)",
      "\u001b[0;32m<ipython-input-13-16f0c2bc4003>\u001b[0m in \u001b[0;36m<module>\u001b[0;34m\u001b[0m\n\u001b[0;32m----> 1\u001b[0;31m \u001b[0mq2\u001b[0m \u001b[0;34m=\u001b[0m \u001b[0mpd\u001b[0m\u001b[0;34m.\u001b[0m\u001b[0mmerge\u001b[0m\u001b[0;34m(\u001b[0m\u001b[0mbudget_cuts\u001b[0m\u001b[0;34m,\u001b[0m \u001b[0mmembership\u001b[0m\u001b[0;34m,\u001b[0m \u001b[0mon\u001b[0m\u001b[0;34m=\u001b[0m\u001b[0;34m'LEAID'\u001b[0m\u001b[0;34m)\u001b[0m\u001b[0;34m\u001b[0m\u001b[0;34m\u001b[0m\u001b[0m\n\u001b[0m\u001b[1;32m      2\u001b[0m \u001b[0mq2\u001b[0m\u001b[0;34m.\u001b[0m\u001b[0mhead\u001b[0m\u001b[0;34m(\u001b[0m\u001b[0;34m)\u001b[0m\u001b[0;34m\u001b[0m\u001b[0;34m\u001b[0m\u001b[0m\n",
      "\u001b[0;31mNameError\u001b[0m: name 'budget_cuts' is not defined"
     ]
    }
   ],
   "source": [
    "q2 = pd.merge(budget_cuts, membership, on='LEAID')\n",
    "q2.head()"
   ]
  },
  {
   "cell_type": "code",
   "execution_count": null,
   "metadata": {
    "ExecuteTime": {
     "end_time": "2019-11-26T21:24:46.553948Z",
     "start_time": "2019-11-26T21:24:42.866Z"
    }
   },
   "outputs": [],
   "source": [
    "q2_nocut = q2[q2['BudgetCutProp'] == 0]\n",
    "q2_cut = q2[q2['BudgetCutProp'] > 0]"
   ]
  },
  {
   "cell_type": "code",
   "execution_count": null,
   "metadata": {
    "ExecuteTime": {
     "end_time": "2019-11-26T21:24:46.556673Z",
     "start_time": "2019-11-26T21:24:42.868Z"
    }
   },
   "outputs": [],
   "source": [
    "q2_nocut = q2_nocut[['V33', 'AM', 'AS','HI', 'BL', 'WH', 'HP', 'TR', 'TOTAL']].sum()\n",
    "q2_nocut['BLP'] = q2_nocut['BL'] / q2_nocut['TOTAL']\n",
    "q2_nocut['AMP'] = q2_nocut['AM'] / q2_nocut['TOTAL']\n",
    "q2_nocut['HPP'] = q2_nocut['HP'] / q2_nocut['TOTAL']\n",
    "q2_nocut['ASP'] = q2_nocut['AS'] / q2_nocut['TOTAL']\n",
    "q2_nocut['WHP'] = q2_nocut['WH'] / q2_nocut['TOTAL']\n",
    "q2_nocut['HIP'] = q2_nocut['HI'] / q2_nocut['TOTAL']\n",
    "q2_nocut['TRP'] = q2_nocut['TR'] / q2_nocut['TOTAL']"
   ]
  },
  {
   "cell_type": "code",
   "execution_count": null,
   "metadata": {
    "ExecuteTime": {
     "end_time": "2019-11-26T21:24:46.559227Z",
     "start_time": "2019-11-26T21:24:42.869Z"
    }
   },
   "outputs": [],
   "source": [
    "q2_cut = q2_cut[['V33', 'AM', 'AS','HI', 'BL', 'WH', 'HP', 'TR', 'TOTAL']].sum()\n",
    "q2_cut['BLP'] = q2_cut['BL'] / q2_cut['TOTAL']\n",
    "q2_cut['AMP'] = q2_cut['AM'] / q2_cut['TOTAL']\n",
    "q2_cut['HPP'] = q2_cut['HP'] / q2_cut['TOTAL']\n",
    "q2_cut['ASP'] = q2_cut['AS'] / q2_cut['TOTAL']\n",
    "q2_cut['WHP'] = q2_cut['WH'] / q2_cut['TOTAL']\n",
    "q2_cut['HIP'] = q2_cut['HI'] / q2_cut['TOTAL']\n",
    "q2_cut['TRP'] = q2_cut['TR'] / q2_cut['TOTAL']"
   ]
  },
  {
   "cell_type": "code",
   "execution_count": null,
   "metadata": {
    "ExecuteTime": {
     "end_time": "2019-11-26T21:24:46.561324Z",
     "start_time": "2019-11-26T21:24:42.872Z"
    }
   },
   "outputs": [],
   "source": [
    "plt.figure(figsize=(10,5))\n",
    "plt.subplot(1, 2, 1)\n",
    "plt.bar(q2_nocut.index[9:], q2_nocut[9:])\n",
    "plt.title('No Budget Cut')\n",
    "plt.xlabel('Race')\n",
    "plt.ylabel('Race Proportion')\n",
    "\n",
    "\n",
    "plt.subplot(1, 2, 2)\n",
    "plt.bar(q2_cut.index[9:], q2_cut[9:], color = 'orange')\n",
    "\n",
    "plt.title('Budget Cut')\n",
    "plt.xlabel('Race')\n",
    "plt.ylabel('Race Proportion')\n",
    "\n",
    "plt.savefig('Q2.png')\n",
    "plt.show()"
   ]
  },
  {
   "cell_type": "markdown",
   "metadata": {},
   "source": [
    "My method for selection for budget cuts does include a bias, BLP is significantly less affected by the budget cuts and WHP is affected significantly more by budget cut. "
   ]
  },
  {
   "cell_type": "markdown",
   "metadata": {},
   "source": [
    "# Problem 3\n",
    "#### Calculate the proportion of enrolled students by disability status (students with an IEP under IDEA) for each district, then visualize the distributions of these proportions for districts that received budget cuts versus districts that did not receive budget cuts. Comment on whether the the distributions appear to be the same or different. Did your selection include any hidden biases, or manage to avoid them?"
   ]
  },
  {
   "cell_type": "code",
   "execution_count": null,
   "metadata": {
    "ExecuteTime": {
     "end_time": "2019-11-26T21:24:46.564035Z",
     "start_time": "2019-11-26T21:24:42.875Z"
    }
   },
   "outputs": [],
   "source": [
    "q3 = pd.merge(budget_cuts, disable, on='LEAID')\n",
    "q3.head()"
   ]
  },
  {
   "cell_type": "code",
   "execution_count": null,
   "metadata": {
    "ExecuteTime": {
     "end_time": "2019-11-26T21:24:46.566807Z",
     "start_time": "2019-11-26T21:24:42.877Z"
    }
   },
   "outputs": [],
   "source": [
    "q3_nocut = q3[q3['BudgetCutProp'] == 0]\n",
    "q3_cut = q3[q3['BudgetCutProp'] > 0]\n",
    "\n",
    "\n",
    "q3_nocut = q3_nocut[['V33', 'SPECED']]\n",
    "q3_cut = q3_cut[['V33', 'SPECED']]\n",
    "\n",
    "\n",
    "q3_nocut['NOSPECED'] = q3_nocut['V33'] - q3_nocut['SPECED']\n",
    "q3_cut['NOSPECED'] = q3_cut['V33'] - q3_cut['SPECED']\n",
    "\n",
    "q3_nocut = q3_nocut.sum()\n",
    "q3_cut = q3_cut.sum()\n",
    "\n",
    "q3_nocut['NOSPECEDR'] = q3_nocut['NOSPECED'] / q3_nocut['V33']\n",
    "q3_nocut['SPECEDR'] = q3_nocut['SPECED'] / q3_nocut['V33']\n",
    "\n",
    "q3_cut['NOSPECEDR'] = q3_cut['NOSPECED'] / q3_cut['V33']\n",
    "q3_cut['SPECEDR'] = q3_cut['SPECED'] / q3_cut['V33']"
   ]
  },
  {
   "cell_type": "code",
   "execution_count": null,
   "metadata": {
    "ExecuteTime": {
     "end_time": "2019-11-26T21:24:46.569293Z",
     "start_time": "2019-11-26T21:24:42.878Z"
    }
   },
   "outputs": [],
   "source": [
    "fig, ax = plt.subplots(figsize=(10,5))\n",
    "x = plt.bar(['No Cut' , 'Cut'], [q3_nocut.values[3], q3_cut.values[3]])\n",
    "y = plt.bar(['No Cut' , 'Cut'], [q3_nocut.values[4], q3_cut.values[4]])\n",
    "\n",
    "\n",
    "autolabel(x)\n",
    "autolabel(y)\n",
    "plt.legend([x,y], ['Not Disabled', 'Disabled'])\n",
    "plt.savefig('Q3.png')\n",
    "plt.show()"
   ]
  },
  {
   "cell_type": "markdown",
   "metadata": {
    "ExecuteTime": {
     "end_time": "2019-11-26T20:53:26.978220Z",
     "start_time": "2019-11-26T20:53:26.974069Z"
    }
   },
   "source": [
    "There are almost negligible bias that my selection method includes when it comes to student with disabilities"
   ]
  },
  {
   "cell_type": "markdown",
   "metadata": {},
   "source": [
    "# Problem 4\n",
    "#### Choose and critique one of your fellow classmates’ selection of schools for budget cuts in HW 3 Problem 4 and Problem 5. What was the justification of their selection? Discuss any advantages or disadvantages of their approach.\n",
    "\n",
    "I choose to critique Omair Shafi Ahmed's apporach. Omari uses simple apporach to reduce 20% of the highest funded school till the overall goal is achieved. This apporach seems pretty straightforward and seems like the correct thing to do, it might lead to various pitfall's like, since the expenditure cost is not taken into the district already has high cost of operation hence the high budget or the high funded schools need those funds to provide necessary facilities for certain students"
   ]
  },
  {
   "cell_type": "markdown",
   "metadata": {},
   "source": [
    "# Problem 5\n",
    "#### Summarize and comment on what you learned from one the special topics lectures (MapReduce + Hadoop, Visualization, Causal Inference, or the Industry Panel) of your choice.\n",
    "\n",
    "I'd like to summarize the MapReduce + Hadoop special topics lecture. That lecture gave us a complete insight on the MapReduce enviornment on hadoop, its history and how it has lead to the developments in the field of Big Data. The lecture gave us an idea of how parallelism is important in the Data industry and how it has evolved over time"
   ]
  }
 ],
 "metadata": {
  "kernelspec": {
   "display_name": "Python 3",
   "language": "python",
   "name": "python3"
  },
  "language_info": {
   "codemirror_mode": {
    "name": "ipython",
    "version": 3
   },
   "file_extension": ".py",
   "mimetype": "text/x-python",
   "name": "python",
   "nbconvert_exporter": "python",
   "pygments_lexer": "ipython3",
   "version": "3.6.7"
  }
 },
 "nbformat": 4,
 "nbformat_minor": 2
}
